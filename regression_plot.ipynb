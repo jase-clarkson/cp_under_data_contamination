{
 "cells": [
  {
   "cell_type": "code",
   "outputs": [],
   "source": [
    "%load_ext autoreload\n",
    "%autoreload 2"
   ],
   "metadata": {
    "collapsed": false,
    "ExecuteTime": {
     "end_time": "2024-01-06T10:08:44.658476281Z",
     "start_time": "2024-01-06T10:08:44.646664779Z"
    }
   },
   "id": "b804169358a0b763",
   "execution_count": 2
  },
  {
   "cell_type": "code",
   "outputs": [
    {
     "name": "stderr",
     "output_type": "stream",
     "text": [
      "/tmp/ipykernel_14782/3541973543.py:12: MatplotlibDeprecationWarning: Support for setting an rcParam that expects a str value to a non-str value is deprecated since 3.5 and support will be removed two minor releases later.\n",
      "  mpl.rcParams['text.latex.preamble'] = [r'\\usepackage{amsmath}']\n"
     ]
    }
   ],
   "source": [
    "import numpy as np\n",
    "import pandas as pd\n",
    "import matplotlib.pyplot as plt\n",
    "import matplotlib as mpl\n",
    "\n",
    "from tqdm.notebook import tqdm\n",
    "from typing import List, Dict, Tuple\n",
    "from sklearn.linear_model import LinearRegression\n",
    "\n",
    "plt.rc('font',**{'family':'serif','sans-serif':['Computer Modern Roman']})\n",
    "plt.rc('text', usetex=True)\n",
    "mpl.rcParams['text.latex.preamble'] = [r'\\usepackage{amsmath}']\n",
    "plt.rc('font', size=14)"
   ],
   "metadata": {
    "collapsed": true,
    "ExecuteTime": {
     "end_time": "2024-01-06T10:08:46.155063811Z",
     "start_time": "2024-01-06T10:08:44.802073370Z"
    }
   },
   "id": "initial_id",
   "execution_count": 3
  },
  {
   "cell_type": "code",
   "outputs": [],
   "source": [
    "class CorruptedDistribution:\n",
    "    def __init__(self, distns: List, mixture_params: List[Dict], mixture_weights: List[float], clean_idx: int = 0):\n",
    "        assert len(distns) == len(mixture_weights) == len(\n",
    "            mixture_params), 'Ensure number of mixture weights, params and distribution functions are the same.'\n",
    "        assert sum(mixture_weights) == 1\n",
    "        self.distns = distns\n",
    "        self.mixture_params = mixture_params\n",
    "        self.mixture_weights = mixture_weights\n",
    "        self.clean_idx = clean_idx\n",
    "\n",
    "    def sample(self, n: int, clean: bool = False) -> np.ndarray:\n",
    "        if clean:\n",
    "            return self.distns[self.clean_idx](**self.mixture_params[self.clean_idx], size=n)\n",
    "        else:\n",
    "            components = np.random.choice([i for i in range(len(self.mixture_params))], size=n, p=self.mixture_weights)\n",
    "            out = []\n",
    "            for c in components:\n",
    "                params = self.mixture_params[c]\n",
    "                out.append(self.distns[c](**params))\n",
    "            return np.array(out)\n"
   ],
   "metadata": {
    "collapsed": false,
    "ExecuteTime": {
     "end_time": "2024-01-06T10:08:46.155669488Z",
     "start_time": "2024-01-06T10:08:46.152866289Z"
    }
   },
   "id": "521db20a81718348",
   "execution_count": 4
  },
  {
   "cell_type": "code",
   "outputs": [],
   "source": [
    "def compute_coverage(sets: List[List[float]], y: list[float]) -> float:\n",
    "    assert len(sets) == len(y)\n",
    "    covered = 0.0\n",
    "    for i in range(len(sets)):\n",
    "        if sets[i][0] <= y[i] <= sets[i][1]:\n",
    "            covered += 1\n",
    "    return covered / float(len(sets))\n",
    "\n",
    "def generate_regression_dataset(beta: np.ndarray,\n",
    "                                n: int,\n",
    "                                eps_dist: CorruptedDistribution,\n",
    "                                clean: bool) -> Tuple[np.ndarray, np.ndarray]:\n",
    "    p = beta.shape[0]\n",
    "    X = np.random.normal(0, 1, (n, p))\n",
    "    eps = eps_dist.sample(n, clean)\n",
    "    y = X @ beta + eps\n",
    "    return X, y\n",
    "\n",
    "\n",
    "def estimate_coverage_and_width(clean_test: bool,\n",
    "                                name: str,\n",
    "                                alpha: float,\n",
    "                                beta: np.ndarray,\n",
    "                                eps_dist: CorruptedDistribution,\n",
    "                                n: int) -> Dict:\n",
    "    # Generate training data and fit regression\n",
    "    X_tr, y_tr = generate_regression_dataset(beta, n, eps_dist, True)\n",
    "    regr = LinearRegression().fit(X_tr, y_tr)\n",
    "\n",
    "    # Generate calibration data\n",
    "    X_cal, y_cal = generate_regression_dataset(beta, n, eps_dist, False)\n",
    "\n",
    "    # Get the residuals on the calibration data.\n",
    "    preds = np.array(regr.predict(X_cal))\n",
    "    r = np.abs(y_cal - preds)\n",
    "\n",
    "    # Estimate conformal quantile\n",
    "    l = int(np.ceil((1 - alpha) * (n + 1)))\n",
    "    q = np.sort(r)[l]\n",
    "\n",
    "    # Construct conformal prediction sets and examine coverage\n",
    "    # name = 'conditional' if clean_test else 'mixture'\n",
    "    output = {}\n",
    "    X_test, y_test = generate_regression_dataset(beta, n, eps_dist, clean_test)\n",
    "    test_preds = regr.predict(X_test)\n",
    "    pred_sets = [(f - q, f + q) for f in test_preds]\n",
    "    cvg = compute_coverage(pred_sets, y_test)\n",
    "    # name = params_to_str(params)\n",
    "    output['cvg'] = cvg\n",
    "    output['width'] = 2 * q\n",
    "    return output"
   ],
   "metadata": {
    "collapsed": false,
    "ExecuteTime": {
     "end_time": "2024-01-06T10:08:46.156075067Z",
     "start_time": "2024-01-06T10:08:46.153321857Z"
    }
   },
   "id": "a78e0d2f4e71ebce",
   "execution_count": 5
  },
  {
   "cell_type": "code",
   "outputs": [
    {
     "data": {
      "text/plain": "  0%|          | 0/20 [00:00<?, ?it/s]",
      "application/vnd.jupyter.widget-view+json": {
       "version_major": 2,
       "version_minor": 0,
       "model_id": "f2a8289241de412b8db75c6fe0d34da7"
      }
     },
     "metadata": {},
     "output_type": "display_data"
    }
   ],
   "source": [
    "## First panel - varying std\n",
    "eps = 0.2\n",
    "p = 5\n",
    "alpha = 0.1\n",
    "beta = np.random.normal(0, 1, p)\n",
    "sigma_vals = np.linspace(0, 5.0, 20)\n",
    "n_reps = 100\n",
    "n = 1000\n",
    "\n",
    "sigma_means = []\n",
    "sigma_stds = []\n",
    "for sigma in tqdm(sigma_vals):\n",
    "    eps_dist = CorruptedDistribution([np.random.normal] * 2, [{'loc': 0, 'scale': 1}, {'loc': 0, 'scale': sigma}], [(1 - eps), eps])\n",
    "    res = []\n",
    "    for _ in range(n_reps):\n",
    "        res.append(estimate_coverage_and_width(True, sigma, alpha, beta, eps_dist, n))\n",
    "    mean = pd.DataFrame(res).mean()\n",
    "    std = pd.DataFrame(res).std()\n",
    "    sigma_means += [mean]\n",
    "    sigma_stds += [std]"
   ],
   "metadata": {
    "collapsed": false,
    "ExecuteTime": {
     "end_time": "2024-01-06T10:08:55.554530559Z",
     "start_time": "2024-01-06T10:08:46.153698746Z"
    }
   },
   "id": "9877e33a2d08d3fd",
   "execution_count": 6
  },
  {
   "cell_type": "code",
   "outputs": [],
   "source": [
    "sigma_means = pd.DataFrame(sigma_means)\n",
    "sigma_stds = pd.DataFrame(sigma_stds)"
   ],
   "metadata": {
    "collapsed": false,
    "ExecuteTime": {
     "end_time": "2024-01-06T10:08:55.596400378Z",
     "start_time": "2024-01-06T10:08:55.554966377Z"
    }
   },
   "id": "a677e0fc6bcc41fa",
   "execution_count": 7
  },
  {
   "cell_type": "code",
   "outputs": [
    {
     "data": {
      "text/plain": "  0%|          | 0/20 [00:00<?, ?it/s]",
      "application/vnd.jupyter.widget-view+json": {
       "version_major": 2,
       "version_minor": 0,
       "model_id": "38281bf8ebb24155b35dc5c0664c6d2a"
      }
     },
     "metadata": {},
     "output_type": "display_data"
    }
   ],
   "source": [
    "## Second panel - varying eps\n",
    "eps_values = np.linspace(0.0, 0.5, 20)\n",
    "p = 5\n",
    "alpha = 0.1\n",
    "beta = np.random.normal(0, 1, p)\n",
    "sigma_c = 3.0\n",
    "n_reps = 100\n",
    "n = 1000\n",
    "\n",
    "eps_means = []\n",
    "eps_stds = []\n",
    "for eps in tqdm(eps_values):\n",
    "    eps_dist = CorruptedDistribution([np.random.normal] * 2, [{'loc': 0, 'scale': 1}, {'loc': 0, 'scale': sigma_c}],\n",
    "                                     [(1 - eps), eps])\n",
    "    res = []\n",
    "    for _ in range(n_reps):\n",
    "        res.append(estimate_coverage_and_width(True, '', alpha, beta, eps_dist, n))\n",
    "    mean = pd.DataFrame(res).mean()\n",
    "    std = pd.DataFrame(res).std()\n",
    "    eps_means += [mean]\n",
    "    eps_stds += [std]\n",
    "eps_means = pd.DataFrame(eps_means)\n",
    "eps_stds = pd.DataFrame(eps_stds)\n"
   ],
   "metadata": {
    "collapsed": false,
    "ExecuteTime": {
     "end_time": "2024-01-06T10:09:04.137359275Z",
     "start_time": "2024-01-06T10:08:55.596315409Z"
    }
   },
   "id": "b39af9d4022da45d",
   "execution_count": 8
  },
  {
   "cell_type": "code",
   "outputs": [
    {
     "data": {
      "text/plain": "<Figure size 800x300 with 2 Axes>",
      "image/png": "[encoded data removed]"
     },
     "metadata": {},
     "output_type": "display_data"
    }
   ],
   "source": [
    "fig, axs = plt.subplots(1, 2, figsize=(8, 3))\n",
    "axs[0].scatter(x=sigma_vals, y=sigma_means['cvg'], marker='x', color='black')\n",
    "axs[0].fill_between(sigma_vals, sigma_means['cvg'] - sigma_stds['cvg'], sigma_means['cvg'] + sigma_stds['cvg'], alpha=0.2, color='black')\n",
    "axs[0].axhline(0.9, color='red')\n",
    "axs[0].set_xlabel('Contamination std $\\\\sigma_2$')\n",
    "axs[0].set_ylabel('Mean Coverage')\n",
    "axs[0].set_yticks(np.linspace(0.875, 1.0, 6))\n",
    "axs[0].set_xticks(np.linspace(0.0, 5.0, 6))\n",
    "axs[1].set_xticks(np.linspace(0.0, 0.5, 6))\n",
    "axs[1].set_ylabel('Mean Coverage')\n",
    "axs[1].set_yticks(np.linspace(0.9, 1.0, 5))\n",
    "axs[1].scatter(x=eps_values, y=eps_means['cvg'], marker='x', color='black')\n",
    "axs[1].fill_between(eps_values, eps_means['cvg'] - eps_stds['cvg'], eps_means['cvg'] + eps_stds['cvg'], alpha=0.2, color='black')\n",
    "\n",
    "axs[1].set_xlabel('Mixture Proportion $\\\\epsilon$')\n",
    "axs[1].axhline(0.9, color='red')\n",
    "plt.suptitle('Gaussian Linear Regression Under Contamination', y=0.88)\n",
    "plt.tight_layout()\n",
    "plt.savefig('figures/regression_plot.pdf', format='pdf', dpi=1200, bbox_inches='tight')"
   ],
   "metadata": {
    "collapsed": false,
    "ExecuteTime": {
     "end_time": "2024-01-06T10:09:06.454062917Z",
     "start_time": "2024-01-06T10:09:04.141764177Z"
    }
   },
   "id": "2e3fdb40c4edbe62",
   "execution_count": 9
  }
 ],
 "metadata": {
  "kernelspec": {
   "display_name": "Python 3",
   "language": "python",
   "name": "python3"
  },
  "language_info": {
   "codemirror_mode": {
    "name": "ipython",
    "version": 2
   },
   "file_extension": ".py",
   "mimetype": "text/x-python",
   "name": "python",
   "nbconvert_exporter": "python",
   "pygments_lexer": "ipython2",
   "version": "2.7.6"
  }
 },
 "nbformat": 4,
 "nbformat_minor": 5
}

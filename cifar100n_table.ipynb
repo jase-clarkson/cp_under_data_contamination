{
 "cells": [
  {
   "cell_type": "code",
   "execution_count": 5,
   "id": "initial_id",
   "metadata": {
    "collapsed": true,
    "ExecuteTime": {
     "end_time": "2024-01-05T15:38:27.434887628Z",
     "start_time": "2024-01-05T15:38:27.428182490Z"
    }
   },
   "outputs": [],
   "source": [
    "import pandas as pd\n",
    "from itertools import product"
   ]
  },
  {
   "cell_type": "markdown",
   "source": [
    "Edit the cell below with the path to your experiment"
   ],
   "metadata": {
    "collapsed": false
   },
   "id": "3c5bf3b9548a5276"
  },
  {
   "cell_type": "code",
   "outputs": [],
   "source": [
    "df = pd.read_pickle('results/CIFAR10N-2024-Jan-05-15-35-50/results.pkl')"
   ],
   "metadata": {
    "collapsed": false,
    "ExecuteTime": {
     "end_time": "2024-01-05T15:39:04.382839449Z",
     "start_time": "2024-01-05T15:39:04.375822362Z"
    }
   },
   "id": "87b9424e0f3f1a18",
   "execution_count": 7
  },
  {
   "cell_type": "code",
   "outputs": [
    {
     "data": {
      "text/plain": "                                                              cp            \\\n                                                             cvg             \n                                                            mean       std   \nlogits_dir n_cal n_test alpha noise_type    model_name                       \nmodels     10000 5000   0.1   clean_label   logits      0.899672  0.005119   \n                              worse_label   logits      0.990256  0.001137   \n                              aggre_label   logits      0.940208  0.002836   \n                              random_label1 logits      0.972872  0.002322   \n                              random_label2 logits      0.977088  0.002353   \n                              random_label3 logits      0.973048  0.002246   \n\n                                                                            \\\n                                                            size             \n                                                            mean       std   \nlogits_dir n_cal n_test alpha noise_type    model_name                       \nmodels     10000 5000   0.1   clean_label   logits      1.507280  0.019043   \n                              worse_label   logits      5.472944  0.077880   \n                              aggre_label   logits      2.002968  0.027047   \n                              random_label1 logits      2.997144  0.052930   \n                              random_label2 logits      3.176912  0.066038   \n                              random_label3 logits      3.042472  0.079477   \n\n                                                       cp_adjusted            \\\n                                                               cvg             \n                                                              mean       std   \nlogits_dir n_cal n_test alpha noise_type    model_name                         \nmodels     10000 5000   0.1   clean_label   logits        0.899312  0.004632   \n                              worse_label   logits        0.906856  0.008758   \n                              aggre_label   logits        0.889128  0.005103   \n                              random_label1 logits        0.892448  0.004568   \n                              random_label2 logits        0.892656  0.005835   \n                              random_label3 logits        0.887856  0.005751   \n\n                                                                            \n                                                            size            \n                                                            mean       std  \nlogits_dir n_cal n_test alpha noise_type    model_name                      \nmodels     10000 5000   0.1   clean_label   logits      1.507008  0.018673  \n                              worse_label   logits      2.188608  0.092928  \n                              aggre_label   logits      1.550488  0.019125  \n                              random_label1 logits      1.671800  0.021771  \n                              random_label2 logits      1.658184  0.020832  \n                              random_label3 logits      1.636184  0.027193  ",
      "text/html": "<div>\n<style scoped>\n    .dataframe tbody tr th:only-of-type {\n        vertical-align: middle;\n    }\n\n    .dataframe tbody tr th {\n        vertical-align: top;\n    }\n\n    .dataframe thead tr th {\n        text-align: left;\n    }\n\n    .dataframe thead tr:last-of-type th {\n        text-align: right;\n    }\n</style>\n<table border=\"1\" class=\"dataframe\">\n  <thead>\n    <tr>\n      <th></th>\n      <th></th>\n      <th></th>\n      <th></th>\n      <th></th>\n      <th></th>\n      <th colspan=\"4\" halign=\"left\">cp</th>\n      <th colspan=\"4\" halign=\"left\">cp_adjusted</th>\n    </tr>\n    <tr>\n      <th></th>\n      <th></th>\n      <th></th>\n      <th></th>\n      <th></th>\n      <th></th>\n      <th colspan=\"2\" halign=\"left\">cvg</th>\n      <th colspan=\"2\" halign=\"left\">size</th>\n      <th colspan=\"2\" halign=\"left\">cvg</th>\n      <th colspan=\"2\" halign=\"left\">size</th>\n    </tr>\n    <tr>\n      <th></th>\n      <th></th>\n      <th></th>\n      <th></th>\n      <th></th>\n      <th></th>\n      <th>mean</th>\n      <th>std</th>\n      <th>mean</th>\n      <th>std</th>\n      <th>mean</th>\n      <th>std</th>\n      <th>mean</th>\n      <th>std</th>\n    </tr>\n    <tr>\n      <th>logits_dir</th>\n      <th>n_cal</th>\n      <th>n_test</th>\n      <th>alpha</th>\n      <th>noise_type</th>\n      <th>model_name</th>\n      <th></th>\n      <th></th>\n      <th></th>\n      <th></th>\n      <th></th>\n      <th></th>\n      <th></th>\n      <th></th>\n    </tr>\n  </thead>\n  <tbody>\n    <tr>\n      <th rowspan=\"6\" valign=\"top\">models</th>\n      <th rowspan=\"6\" valign=\"top\">10000</th>\n      <th rowspan=\"6\" valign=\"top\">5000</th>\n      <th rowspan=\"6\" valign=\"top\">0.1</th>\n      <th>clean_label</th>\n      <th>logits</th>\n      <td>0.899672</td>\n      <td>0.005119</td>\n      <td>1.507280</td>\n      <td>0.019043</td>\n      <td>0.899312</td>\n      <td>0.004632</td>\n      <td>1.507008</td>\n      <td>0.018673</td>\n    </tr>\n    <tr>\n      <th>worse_label</th>\n      <th>logits</th>\n      <td>0.990256</td>\n      <td>0.001137</td>\n      <td>5.472944</td>\n      <td>0.077880</td>\n      <td>0.906856</td>\n      <td>0.008758</td>\n      <td>2.188608</td>\n      <td>0.092928</td>\n    </tr>\n    <tr>\n      <th>aggre_label</th>\n      <th>logits</th>\n      <td>0.940208</td>\n      <td>0.002836</td>\n      <td>2.002968</td>\n      <td>0.027047</td>\n      <td>0.889128</td>\n      <td>0.005103</td>\n      <td>1.550488</td>\n      <td>0.019125</td>\n    </tr>\n    <tr>\n      <th>random_label1</th>\n      <th>logits</th>\n      <td>0.972872</td>\n      <td>0.002322</td>\n      <td>2.997144</td>\n      <td>0.052930</td>\n      <td>0.892448</td>\n      <td>0.004568</td>\n      <td>1.671800</td>\n      <td>0.021771</td>\n    </tr>\n    <tr>\n      <th>random_label2</th>\n      <th>logits</th>\n      <td>0.977088</td>\n      <td>0.002353</td>\n      <td>3.176912</td>\n      <td>0.066038</td>\n      <td>0.892656</td>\n      <td>0.005835</td>\n      <td>1.658184</td>\n      <td>0.020832</td>\n    </tr>\n    <tr>\n      <th>random_label3</th>\n      <th>logits</th>\n      <td>0.973048</td>\n      <td>0.002246</td>\n      <td>3.042472</td>\n      <td>0.079477</td>\n      <td>0.887856</td>\n      <td>0.005751</td>\n      <td>1.636184</td>\n      <td>0.027193</td>\n    </tr>\n  </tbody>\n</table>\n</div>"
     },
     "execution_count": 8,
     "metadata": {},
     "output_type": "execute_result"
    }
   ],
   "source": [
    "df"
   ],
   "metadata": {
    "collapsed": false,
    "ExecuteTime": {
     "end_time": "2024-01-05T15:39:04.906829992Z",
     "start_time": "2024-01-05T15:39:04.900890151Z"
    }
   },
   "id": "e9302c8cbb23f8f7",
   "execution_count": 8
  },
  {
   "cell_type": "code",
   "outputs": [],
   "source": [
    "by_noise_type = df.unstack('noise_type').reset_index(drop=True).stack()"
   ],
   "metadata": {
    "collapsed": false,
    "ExecuteTime": {
     "end_time": "2024-01-05T15:45:27.848593589Z",
     "start_time": "2024-01-05T15:45:27.842661189Z"
    }
   },
   "id": "31837c93bd6e960e",
   "execution_count": 32
  },
  {
   "cell_type": "code",
   "outputs": [],
   "source": [
    "by_noise_type.index = by_noise_type.index.droplevel(0)"
   ],
   "metadata": {
    "collapsed": false,
    "ExecuteTime": {
     "end_time": "2024-01-05T15:45:35.140039400Z",
     "start_time": "2024-01-05T15:45:35.138619305Z"
    }
   },
   "id": "f0c73c7e1cd6a0b1",
   "execution_count": 35
  },
  {
   "cell_type": "code",
   "outputs": [],
   "source": [
    "def combine_mean_std(row):\n",
    "    return f'{row[\"mean\"]: .3f} ± {row[\"std\"]: .3f}'\n",
    "\n",
    "table = []\n",
    "for comb in product(['cp', 'cp_adjusted'], ['cvg', 'size']):\n",
    "    aggr = by_noise_type.loc[:, comb].apply(combine_mean_std, axis=1)\n",
    "    aggr.name = comb\n",
    "    table.append(aggr)\n",
    "\n",
    "table = pd.concat(table, axis=1)"
   ],
   "metadata": {
    "collapsed": false,
    "ExecuteTime": {
     "end_time": "2024-01-05T15:47:17.344720353Z",
     "start_time": "2024-01-05T15:47:17.324815019Z"
    }
   },
   "id": "3277434af28e0555",
   "execution_count": 43
  },
  {
   "cell_type": "code",
   "outputs": [],
   "source": [
    "col_d = dict(zip(table.columns.levels[0], ['CP', 'CRCP']))\n",
    "col_d.update(zip(table.columns.levels[1], ['Coverage', 'Size']))\n",
    "\n",
    "row_d = dict(zip(table.index, ['Aggr', 'Clean', 'R1', 'R2', 'R3', 'Worst']))\n",
    "table = table.rename(columns=col_d).rename(row_d)\n",
    "table.index.name = 'Noise Type'\n"
   ],
   "metadata": {
    "collapsed": false,
    "ExecuteTime": {
     "end_time": "2024-01-05T15:49:26.457473804Z",
     "start_time": "2024-01-05T15:49:26.440967209Z"
    }
   },
   "id": "52f22e2e58c68cc2",
   "execution_count": 45
  },
  {
   "cell_type": "code",
   "outputs": [],
   "source": [
    "print_order = ['Clean', 'Aggr', 'R1', 'R2', 'R3', 'Worst']\n",
    "table = table.loc[print_order]"
   ],
   "metadata": {
    "collapsed": false,
    "ExecuteTime": {
     "end_time": "2024-01-05T15:50:22.945730663Z",
     "start_time": "2024-01-05T15:50:22.931976663Z"
    }
   },
   "id": "c857b3790fc6145e",
   "execution_count": 47
  },
  {
   "cell_type": "code",
   "outputs": [
    {
     "name": "stdout",
     "output_type": "stream",
     "text": [
      "\\begin{tabular}{lllll}\n",
      "\\toprule\n",
      "{} & \\multicolumn{2}{l}{CP} & \\multicolumn{2}{l}{CRCP} \\\\\n",
      "{} &         Coverage &             Size &         Coverage &             Size \\\\\n",
      "Noise Type &                  &                  &                  &                  \\\\\n",
      "\\midrule\n",
      "Clean      &   0.900 ±  0.005 &   1.507 ±  0.019 &   0.909 ±  0.005 &   1.507 ±  0.019 \\\\\n",
      "Aggr       &   0.940 ±  0.003 &   2.003 ±  0.027 &   0.899 ±  0.005 &   1.550 ±  0.019 \\\\\n",
      "R1         &   0.973 ±  0.002 &   2.997 ±  0.053 &   0.902 ±  0.005 &   1.672 ±  0.022 \\\\\n",
      "R2         &   0.977 ±  0.002 &   3.177 ±  0.066 &   0.903 ±  0.006 &   1.658 ±  0.021 \\\\\n",
      "R3         &   0.973 ±  0.002 &   3.042 ±  0.079 &   0.898 ±  0.006 &   1.636 ±  0.027 \\\\\n",
      "Worst      &   0.990 ±  0.001 &   5.473 ±  0.078 &   0.917 ±  0.009 &   2.189 ±  0.093 \\\\\n",
      "\\bottomrule\n",
      "\\end{tabular}\n"
     ]
    }
   ],
   "source": [
    "latex = table.to_latex(formatters={'Noise Type': lambda s: f'\\\\texttt{s}'})\n",
    "print(latex)"
   ],
   "metadata": {
    "collapsed": false,
    "ExecuteTime": {
     "end_time": "2024-01-05T15:51:03.474414253Z",
     "start_time": "2024-01-05T15:51:03.472781567Z"
    }
   },
   "id": "71aea14d25c9d8b4",
   "execution_count": 50
  },
  {
   "cell_type": "code",
   "outputs": [],
   "source": [],
   "metadata": {
    "collapsed": false
   },
   "id": "a9a39ac077777227"
  }
 ],
 "metadata": {
  "kernelspec": {
   "display_name": "Python 3",
   "language": "python",
   "name": "python3"
  },
  "language_info": {
   "codemirror_mode": {
    "name": "ipython",
    "version": 2
   },
   "file_extension": ".py",
   "mimetype": "text/x-python",
   "name": "python",
   "nbconvert_exporter": "python",
   "pygments_lexer": "ipython2",
   "version": "2.7.6"
  }
 },
 "nbformat": 4,
 "nbformat_minor": 5
}

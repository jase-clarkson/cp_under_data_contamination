{
 "cells": [
  {
   "cell_type": "code",
   "execution_count": 1,
   "id": "initial_id",
   "metadata": {
    "collapsed": true,
    "ExecuteTime": {
     "end_time": "2024-01-06T11:16:29.566419812Z",
     "start_time": "2024-01-06T11:16:29.335803501Z"
    }
   },
   "outputs": [],
   "source": [
    "import pandas as pd\n",
    "from itertools import product"
   ]
  },
  {
   "cell_type": "markdown",
   "source": [
    "Edit the cell below with the path to your experiment"
   ],
   "metadata": {
    "collapsed": false
   },
   "id": "3c5bf3b9548a5276"
  },
  {
   "cell_type": "code",
   "outputs": [],
   "source": [
    "df = pd.read_pickle('results/CIFAR10N-2024-Jan-05-15-35-50/results.pkl')"
   ],
   "metadata": {
    "collapsed": false,
    "ExecuteTime": {
     "end_time": "2024-01-06T11:16:29.568130346Z",
     "start_time": "2024-01-06T11:16:29.564154080Z"
    }
   },
   "id": "87b9424e0f3f1a18",
   "execution_count": 2
  },
  {
   "cell_type": "code",
   "outputs": [],
   "source": [
    "by_noise_type = df.unstack('noise_type').reset_index(drop=True).stack()"
   ],
   "metadata": {
    "collapsed": false,
    "ExecuteTime": {
     "end_time": "2024-01-06T11:16:33.908488791Z",
     "start_time": "2024-01-06T11:16:33.897559669Z"
    }
   },
   "id": "31837c93bd6e960e",
   "execution_count": 4
  },
  {
   "cell_type": "code",
   "outputs": [],
   "source": [
    "by_noise_type.index = by_noise_type.index.droplevel(0)"
   ],
   "metadata": {
    "collapsed": false,
    "ExecuteTime": {
     "end_time": "2024-01-06T11:16:34.412633336Z",
     "start_time": "2024-01-06T11:16:34.406302198Z"
    }
   },
   "id": "f0c73c7e1cd6a0b1",
   "execution_count": 5
  },
  {
   "cell_type": "code",
   "outputs": [],
   "source": [
    "def combine_mean_std(row):\n",
    "    return f'{row[\"mean\"]: .3f} ± {row[\"std\"]: .3f}'\n",
    "\n",
    "table = []\n",
    "for comb in product(['cp', 'cp_adjusted'], ['cvg', 'size']):\n",
    "    aggr = by_noise_type.loc[:, comb].apply(combine_mean_std, axis=1)\n",
    "    aggr.name = comb\n",
    "    table.append(aggr)\n",
    "\n",
    "table = pd.concat(table, axis=1)"
   ],
   "metadata": {
    "collapsed": false,
    "ExecuteTime": {
     "end_time": "2024-01-06T11:17:24.748682824Z",
     "start_time": "2024-01-06T11:17:24.742678674Z"
    }
   },
   "id": "3277434af28e0555",
   "execution_count": 11
  },
  {
   "cell_type": "code",
   "outputs": [],
   "source": [
    "col_d = dict(zip(table.columns.levels[0], ['CP', 'CRCP']))\n",
    "col_d.update(zip(table.columns.levels[1], ['Coverage', 'Size']))\n",
    "\n",
    "row_d = dict(zip(table.index, ['Aggr', 'Clean', 'R1', 'R2', 'R3', 'Worst']))\n",
    "table = table.rename(columns=col_d).rename(row_d)\n",
    "table.index.name = 'Noise Type'\n"
   ],
   "metadata": {
    "collapsed": false,
    "ExecuteTime": {
     "end_time": "2024-01-06T11:17:25.296998408Z",
     "start_time": "2024-01-06T11:17:25.293526370Z"
    }
   },
   "id": "52f22e2e58c68cc2",
   "execution_count": 12
  },
  {
   "cell_type": "code",
   "outputs": [],
   "source": [
    "print_order = ['Clean', 'Aggr', 'R1', 'R2', 'R3', 'Worst']\n",
    "table = table.loc[print_order]"
   ],
   "metadata": {
    "collapsed": false,
    "ExecuteTime": {
     "end_time": "2024-01-06T11:17:26.043626090Z",
     "start_time": "2024-01-06T11:17:26.040377691Z"
    }
   },
   "id": "c857b3790fc6145e",
   "execution_count": 13
  },
  {
   "cell_type": "code",
   "outputs": [
    {
     "name": "stdout",
     "output_type": "stream",
     "text": [
      "\\begin{tabular}{lllll}\n",
      "\\toprule\n",
      "{} & \\multicolumn{2}{l}{CP} & \\multicolumn{2}{l}{CRCP} \\\\\n",
      "{} &         Coverage &             Size &         Coverage &             Size \\\\\n",
      "Noise Type &                  &                  &                  &                  \\\\\n",
      "\\midrule\n",
      "Clean      &   0.900 ±  0.005 &   1.507 ±  0.019 &   0.909 ±  0.005 &   1.507 ±  0.019 \\\\\n",
      "Aggr       &   0.940 ±  0.003 &   2.003 ±  0.027 &   0.899 ±  0.005 &   1.550 ±  0.019 \\\\\n",
      "R1         &   0.973 ±  0.002 &   2.997 ±  0.053 &   0.902 ±  0.005 &   1.672 ±  0.022 \\\\\n",
      "R2         &   0.977 ±  0.002 &   3.177 ±  0.066 &   0.903 ±  0.006 &   1.658 ±  0.021 \\\\\n",
      "R3         &   0.973 ±  0.002 &   3.042 ±  0.079 &   0.898 ±  0.006 &   1.636 ±  0.027 \\\\\n",
      "Worst      &   0.990 ±  0.001 &   5.473 ±  0.078 &   0.917 ±  0.009 &   2.189 ±  0.093 \\\\\n",
      "\\bottomrule\n",
      "\\end{tabular}\n"
     ]
    }
   ],
   "source": [
    "latex = table.to_latex(formatters={'Noise Type': lambda s: f'\\\\texttt{s}'})\n",
    "print(latex)"
   ],
   "metadata": {
    "collapsed": false,
    "ExecuteTime": {
     "end_time": "2024-01-06T11:17:26.446742023Z",
     "start_time": "2024-01-06T11:17:26.442430258Z"
    }
   },
   "id": "71aea14d25c9d8b4",
   "execution_count": 14
  }
 ],
 "metadata": {
  "kernelspec": {
   "display_name": "Python 3",
   "language": "python",
   "name": "python3"
  },
  "language_info": {
   "codemirror_mode": {
    "name": "ipython",
    "version": 2
   },
   "file_extension": ".py",
   "mimetype": "text/x-python",
   "name": "python",
   "nbconvert_exporter": "python",
   "pygments_lexer": "ipython2",
   "version": "2.7.6"
  }
 },
 "nbformat": 4,
 "nbformat_minor": 5
}

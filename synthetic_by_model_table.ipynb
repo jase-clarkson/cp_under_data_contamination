{
 "cells": [
  {
   "cell_type": "code",
   "execution_count": 127,
   "id": "initial_id",
   "metadata": {
    "collapsed": true,
    "ExecuteTime": {
     "end_time": "2024-01-01T12:42:36.769907389Z",
     "start_time": "2024-01-01T12:42:36.729616871Z"
    }
   },
   "outputs": [],
   "source": [
    "import pandas as pd\n",
    "from itertools import product"
   ]
  },
  {
   "cell_type": "code",
   "outputs": [],
   "source": [
    "logistic_df = pd.read_pickle('results/logistic-2024-Jan-01-04-00-06/results.pkl')\n",
    "hypercube_df = pd.read_pickle('results/hypercube-2024-Jan-01-04-00-12/results.pkl')"
   ],
   "metadata": {
    "collapsed": false,
    "ExecuteTime": {
     "end_time": "2024-01-01T12:42:36.945983076Z",
     "start_time": "2024-01-01T12:42:36.901888350Z"
    }
   },
   "id": "87b9424e0f3f1a18",
   "execution_count": 128
  },
  {
   "cell_type": "code",
   "outputs": [],
   "source": [
    "logistic_df.columns.names = ['method', 'metric', 'statistic']\n",
    "hypercube_df.columns.names = ['method', 'metric', 'statistic']"
   ],
   "metadata": {
    "collapsed": false,
    "ExecuteTime": {
     "end_time": "2024-01-01T12:42:38.112507208Z",
     "start_time": "2024-01-01T12:42:38.109360986Z"
    }
   },
   "id": "523030c94aafe06b",
   "execution_count": 130
  },
  {
   "cell_type": "code",
   "outputs": [],
   "source": [
    "def by_dataset_by_model(df, dataset):\n",
    "    unstacked = df.unstack().reset_index(drop=True)\n",
    "    unstacked.index = [dataset]\n",
    "    unstacked.index.name = 'dataset'\n",
    "    return unstacked.stack()"
   ],
   "metadata": {
    "collapsed": false,
    "ExecuteTime": {
     "end_time": "2024-01-01T12:42:39.034936156Z",
     "start_time": "2024-01-01T12:42:39.030903109Z"
    }
   },
   "id": "8f951a47abf428f3",
   "execution_count": 131
  },
  {
   "cell_type": "code",
   "outputs": [],
   "source": [
    "combined = pd.concat([by_dataset_by_model(logistic_df, 'logistic'), by_dataset_by_model(hypercube_df, 'hypercube')])"
   ],
   "metadata": {
    "collapsed": false,
    "ExecuteTime": {
     "end_time": "2024-01-01T12:42:39.614410435Z",
     "start_time": "2024-01-01T12:42:39.597088265Z"
    }
   },
   "id": "770b361bef73474e",
   "execution_count": 132
  },
  {
   "cell_type": "code",
   "outputs": [],
   "source": [
    "def combine_mean_std(row):\n",
    "    return f'{row[\"mean\"]: .3f} ± {row[\"std\"]: .3f}'\n",
    "\n",
    "table = []\n",
    "for comb in product(['cp', 'cp_adjusted'], ['cvg', 'size']):\n",
    "    aggr = combined.loc[:, comb].apply(combine_mean_std, axis=1)\n",
    "    aggr.name = comb\n",
    "    table.append(aggr)\n",
    "\n",
    "table = pd.concat(table, axis=1)"
   ],
   "metadata": {
    "collapsed": false,
    "ExecuteTime": {
     "end_time": "2024-01-01T12:42:48.896870810Z",
     "start_time": "2024-01-01T12:42:48.886851517Z"
    }
   },
   "id": "3ac63d07b90ff478",
   "execution_count": 135
  },
  {
   "cell_type": "code",
   "outputs": [],
   "source": [
    "col_d = dict(zip(table.columns.levels[0], ['CP', 'CP Adjusted']))\n",
    "col_d.update(zip(table.columns.levels[1], ['Coverage', 'Size']))\n",
    "row_d = dict(zip(table.index.levels[0], ['Hypercube', 'Logistic']))\n",
    "row_d.update(zip(table.index.levels[1], ['GBT', 'LR', 'MLP', 'RF']))\n",
    "table = table.rename(columns=col_d).rename(row_d)"
   ],
   "metadata": {
    "collapsed": false,
    "ExecuteTime": {
     "end_time": "2024-01-01T12:42:50.893733557Z",
     "start_time": "2024-01-01T12:42:50.889903319Z"
    }
   },
   "id": "e8f955d7db37f5ab",
   "execution_count": 137
  },
  {
   "cell_type": "code",
   "outputs": [],
   "source": [
    "table.index.names = ['Dataset', 'Model']"
   ],
   "metadata": {
    "collapsed": false,
    "ExecuteTime": {
     "end_time": "2024-01-01T12:42:51.979560498Z",
     "start_time": "2024-01-01T12:42:51.976936343Z"
    }
   },
   "id": "ed740fafcda61989",
   "execution_count": 138
  },
  {
   "cell_type": "code",
   "outputs": [
    {
     "name": "stdout",
     "output_type": "stream",
     "text": [
      "\\begin{tabular}{llllll}\n",
      "\\toprule\n",
      "          &    & \\multicolumn{2}{l}{CP} & \\multicolumn{2}{l}{CP Adjusted} \\\\\n",
      "          &    &         Coverage &             Size &         Coverage &             Size \\\\\n",
      "Dataset & Model &                  &                  &                  &                  \\\\\n",
      "\\midrule\n",
      "Logistic & GBT &   0.968 ±  0.005 &   2.998 ±  0.120 &   0.915 ±  0.005 &   2.228 ±  0.174 \\\\\n",
      "          & LR &   0.977 ±  0.005 &   2.833 ±  0.120 &   0.915 ±  0.006 &   2.002 ±  0.163 \\\\\n",
      "          & MLP &   0.974 ±  0.005 &   2.910 ±  0.135 &   0.916 ±  0.005 &   2.062 ±  0.194 \\\\\n",
      "          & RF &   0.964 ±  0.006 &   3.119 ±  0.131 &   0.916 ±  0.006 &   2.346 ±  0.203 \\\\\n",
      "Hypercube & GBT &   0.983 ±  0.003 &   2.854 ±  0.051 &   0.915 ±  0.005 &   1.738 ±  0.089 \\\\\n",
      "          & LR &   0.951 ±  0.008 &   3.495 ±  0.149 &   0.917 ±  0.005 &   3.050 ±  0.247 \\\\\n",
      "          & MLP &   0.989 ±  0.002 &   2.707 ±  0.051 &   0.915 ±  0.005 &   1.493 ±  0.067 \\\\\n",
      "          & RF &   0.982 ±  0.003 &   2.833 ±  0.065 &   0.915 ±  0.005 &   1.687 ±  0.097 \\\\\n",
      "\\bottomrule\n",
      "\\end{tabular}\n"
     ]
    }
   ],
   "source": [
    "latex = table.to_latex(formatters={'Dataset': lambda s: f'\\\\texttt{s}', 'Model': lambda s: f'\\\\texttt{s}'})\n",
    "print(latex)"
   ],
   "metadata": {
    "collapsed": false,
    "ExecuteTime": {
     "end_time": "2024-01-01T12:45:13.526056854Z",
     "start_time": "2024-01-01T12:45:13.522922272Z"
    }
   },
   "id": "daed033b85d09a1b",
   "execution_count": 145
  }
 ],
 "metadata": {
  "kernelspec": {
   "display_name": "Python 3",
   "language": "python",
   "name": "python3"
  },
  "language_info": {
   "codemirror_mode": {
    "name": "ipython",
    "version": 2
   },
   "file_extension": ".py",
   "mimetype": "text/x-python",
   "name": "python",
   "nbconvert_exporter": "python",
   "pygments_lexer": "ipython2",
   "version": "2.7.6"
  }
 },
 "nbformat": 4,
 "nbformat_minor": 5
}
